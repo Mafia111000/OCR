{
 "cells": [
  {
   "cell_type": "code",
   "execution_count": 1,
   "id": "d1be4236",
   "metadata": {},
   "outputs": [],
   "source": [
    "import os\n",
    "import numpy as np\n",
    "from skimage import io\n",
    "\n",
    "\n",
    "import tensorflow\n",
    "from tensorflow import keras\n",
    "import pandas as pd\n",
    "\n",
    "from PIL import Image, ImageOps\n"
   ]
  },
  {
   "cell_type": "code",
   "execution_count": 2,
   "id": "03bfe772",
   "metadata": {},
   "outputs": [],
   "source": [
    "model = keras.models.load_model('new2.h5')"
   ]
  },
  {
   "cell_type": "code",
   "execution_count": null,
   "id": "129f0011",
   "metadata": {},
   "outputs": [],
   "source": [
    "logo=Image.open(r\"ocr.png\")\n",
    "logo=ImageOps.grayscale(logo)\n",
    "logo=np.asarray(logo)"
   ]
  }
 ],
 "metadata": {
  "kernelspec": {
   "display_name": "Python 3",
   "language": "python",
   "name": "python3"
  },
  "language_info": {
   "codemirror_mode": {
    "name": "ipython",
    "version": 3
   },
   "file_extension": ".py",
   "mimetype": "text/x-python",
   "name": "python",
   "nbconvert_exporter": "python",
   "pygments_lexer": "ipython3",
   "version": "3.8.8"
  }
 },
 "nbformat": 4,
 "nbformat_minor": 5
}
