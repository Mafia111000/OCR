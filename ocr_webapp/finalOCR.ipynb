{
 "cells": [
  {
   "cell_type": "code",
   "execution_count": 26,
   "id": "d1be4236",
   "metadata": {},
   "outputs": [],
   "source": [
    "import os\n",
    "import numpy as np\n",
    "from skimage import io\n",
    "\n",
    "\n",
    "import tensorflow\n",
    "from tensorflow import keras\n",
    "import pandas as pd\n",
    "\n",
    "from PIL import Image, ImageOps\n"
   ]
  },
  {
   "cell_type": "code",
   "execution_count": 27,
   "id": "03bfe772",
   "metadata": {},
   "outputs": [],
   "source": [
    "model = keras.models.load_model('new2.h5')"
   ]
  },
  {
   "cell_type": "code",
   "execution_count": 31,
   "id": "129f0011",
   "metadata": {},
   "outputs": [],
   "source": [
    "logo=Image.open(r\"C:\\Users\\Sanket M\\Desktop\\Untitled.png\")\n",
    "logo=ImageOps.grayscale(logo)\n",
    "logo=np.asarray(logo)\n",
    "coords=[]\n",
    "xycoords=[]\n",
    "def black_and_white(a):# takes np array image\n",
    "    m=a.copy()\n",
    "    for i in range(len(m)):\n",
    "        for j in range(len(m[0])):\n",
    "            if m[i][j] >200:\n",
    "                m[i][j]=255\n",
    "            else:\n",
    "                m[i][j]=0\n",
    "    return m\n",
    "def line_coords(coords):\n",
    "    xmin=coords[0][0][0]\n",
    "    xmax=coords[-1][0][0]\n",
    "    ymin=20000\n",
    "    ymax=0\n",
    "    for i in coords:\n",
    "        for j in i:\n",
    "            if j[1] >ymax:\n",
    "                ymax=j[1]\n",
    "            if j[1] < ymin:\n",
    "                ymin=j[1]\n",
    "    xycoords.append([xmin,xmax+2,ymin+1,ymax])\n",
    "for i in range(len(logo[1:-1,1:-1])):\n",
    "    coo=[]\n",
    "    flag=0\n",
    "    for c in logo[1:-1,1:-1][i]:\n",
    "        if c<200:\n",
    "            flag=1\n",
    "    if flag==1:\n",
    "        for b in range(len(logo[1:-1,1:-1][i])):\n",
    "            if logo[1:-1,1:-1][i][b]>200:\n",
    "                try:\n",
    "                    if logo[1:-1,1:-1][i][b+1] <200:\n",
    "                        coo.append([i,b+1])\n",
    "                        #print(i,b+1)\n",
    "                except:\n",
    "                    pass\n",
    "            if logo[1:-1,1:-1][i][b]<200:\n",
    "                try:\n",
    "                    if logo[1:-1,1:-1][i][b+1] > 200:\n",
    "                        coo.append([i,b])\n",
    "                        #print(i,b+1)\n",
    "\n",
    "                except:\n",
    "                    pass\n",
    "    else:\n",
    "        if len(coords)>0:\n",
    "            line_coords(coords)\n",
    "            coords=[]\n",
    "        \n",
    "    if len(coo)>0:\n",
    "        #print('hurrah')\n",
    "        coords.append(coo)\n",
    "spaces=np.array([])\n",
    "sp=[]\n",
    "ctr=0\n",
    "for x in xycoords:\n",
    "    a=black_and_white(logo[x[0]:x[1],x[2]:x[3]])\n",
    "    for i in range(len(a[0,:])):\n",
    "\n",
    "        f=0\n",
    "        for j in a[:,i]:\n",
    "            if j==0:\n",
    "                f=1\n",
    "        if f!=1:\n",
    "            ctr+=1\n",
    "        if f==1:\n",
    "            sp.append(ctr)\n",
    "            ctr=0\n",
    "    import ckwrap\n",
    "    nums= np.array([i for i in sp if i!=0])\n",
    "    km = ckwrap.ckmeans(nums,2)\n",
    "    spaces=np.concatenate((spaces,np.array([0]),km.labels), axis=None)\n",
    "count=0\n",
    "for hoe in xycoords:    \n",
    "    newC=[0]\n",
    "    def flagCalc(i):\n",
    "        flag = 1\n",
    "        jo=0\n",
    "        for j in range(len(logo[hoe[0]:hoe[1],hoe[2]:hoe[3]][:,i])):\n",
    "            if  logo[hoe[0]:hoe[1],hoe[2]:hoe[3]][:,i][j]<150:\n",
    "                flag=0\n",
    "                jo=j\n",
    "        #print(flag)\n",
    "        return flag        \n",
    "\n",
    "    for i in range(len(logo[hoe[0]:hoe[1],hoe[2]:hoe[3]][0,:])):\n",
    "        try:\n",
    "            if flagCalc(i)<flagCalc(i+1):\n",
    "                newC.append(i+1)\n",
    "        except:\n",
    "            pass\n",
    "    newC.append(hoe[3])\n",
    "    for i in range(len(newC)-1):   \n",
    "        A=black_and_white(logo[hoe[0]:hoe[1],hoe[2]:hoe[3]][:,newC[i]:newC[i+1]])\n",
    "        im = Image.fromarray(A)\n",
    "        #im.save(\"dump/\"+str(count)+\".png\")\n",
    "        count+=1  "
   ]
  },
  {
   "cell_type": "code",
   "execution_count": 33,
   "id": "22a51edc",
   "metadata": {},
   "outputs": [
    {
     "data": {
      "text/plain": [
       "array([0., 0., 0., 0., 0., 1., 0., 0.])"
      ]
     },
     "execution_count": 33,
     "metadata": {},
     "output_type": "execute_result"
    }
   ],
   "source": [
    "spaces"
   ]
  },
  {
   "cell_type": "markdown",
   "id": "59589b21",
   "metadata": {},
   "source": [
    "# supporting functions"
   ]
  },
  {
   "cell_type": "code",
   "execution_count": 34,
   "id": "7dce2f8a",
   "metadata": {},
   "outputs": [],
   "source": [
    "def borderRemoval(path):\n",
    "    a = io.imread(path)\n",
    "   \n",
    "    #print(a)\n",
    "    for i in range(len(a)):\n",
    "        for j in range(len(a[0])):\n",
    "            if a[i][j] >200:\n",
    "                a[i][j]=255\n",
    "            else:\n",
    "                a[i][j]=0\n",
    "    def flagCalc(i):\n",
    "        flag = 0\n",
    "        for j in range(len(i)):\n",
    "            if  i[j]==0:\n",
    "                flag=1\n",
    "\n",
    "        return flag       \n",
    "    y1=0\n",
    "    y2=a.shape[0]\n",
    "    x1=0\n",
    "    x2=a.shape[1]\n",
    "    \n",
    "    \n",
    "    for i in range(len(a)-1):\n",
    "        #print(flagCalc(a[i])) \n",
    "        if flagCalc(a[i])<flagCalc(a[i+1]):\n",
    "            y2=a.shape[0]\n",
    "            if (i+1)< y2:\n",
    "                y1=i+1\n",
    "        elif flagCalc(a[i])>flagCalc(a[i+1]):\n",
    "            if (i-1)>y1:\n",
    "                y2=i-1\n",
    "    for i in range(len(a[0,:])-1):\n",
    "        #print(flagCalc(a[i])) \n",
    "        if flagCalc(a[:,i])<flagCalc(a[:,i+1]):\n",
    "            if (i+1)< x2:\n",
    "                x1=i+1\n",
    "        elif flagCalc(a[:,i])>flagCalc(a[:,i+1]):\n",
    "            if (i-1)>x1:\n",
    "                x2=i-1   \n",
    "    im = Image.fromarray(a[y1:y2,x1:x2])\n",
    "    print(y1,y2,x1,x2)\n",
    "    im.save(path)\n",
    "def shahidAlgo(path):\n",
    "    a = io.imread(path)\n",
    "    if a.shape[0] > a.shape[1]  :\n",
    "        f=28/a.shape[0]\n",
    "    else:\n",
    "        f=28/a.shape[1]\n",
    "    b=Image.fromarray(a,mode='L').resize((int(a.shape[1]*f),int(a.shape[0]*f)),Image.BICUBIC)\n",
    "    c=Image.fromarray(np.full((32, 32), 255).astype('uint8'),mode='L')\n",
    "    img_w, img_h = b.size\n",
    "    bg_w, bg_h = c.size\n",
    "    offset = ((bg_w - img_w) // 2, (bg_h - img_h) // 2)\n",
    "    c.paste(b, offset)\n",
    "    \n",
    "    c.save(path)\n",
    "def BnW(path):\n",
    "    a = io.imread(path)\n",
    "    for i in range(len(a)):\n",
    "        for j in range(len(a[0])):\n",
    "            if a[i][j]>200:\n",
    "                a[i][j] = 255\n",
    "            else:\n",
    "                a[i][j]=0\n",
    "    Image.fromarray(a,mode='L').save(path)\n"
   ]
  },
  {
   "cell_type": "code",
   "execution_count": 12,
   "id": "2e53488b",
   "metadata": {},
   "outputs": [
    {
     "name": "stdout",
     "output_type": "stream",
     "text": [
      "1 12 0 26\n",
      "6 86 15 80\n",
      "29 85 4 110\n",
      "29 86 4 82\n",
      "29 85 7 79\n",
      "5 86 40 108\n",
      "5 86 10 75\n",
      "29 85 4 108\n"
     ]
    }
   ],
   "source": [
    "for mm in os.listdir(r\"dump/\"):\n",
    "    #print(r\"dump/\"+str(mm))\n",
    "    borderRemoval(r\"dump/\"+str(mm))\n",
    "    shahidAlgo(r\"dump/\"+str(mm))\n",
    "    BnW(r\"dump/\"+str(mm))"
   ]
  },
  {
   "cell_type": "code",
   "execution_count": 13,
   "id": "639f8f0e",
   "metadata": {},
   "outputs": [],
   "source": [
    "labs={0: 0,1: 1, 2: 2, 3: 3,4: 4,5: 5,6: 6,7: 7,8: 8,9: 9,\n",
    " 10: 'A',\n",
    " 11: 'B', 12: 'C', 13: 'D', 14: 'E',\n",
    " 15: 'F', 16: 'G', 17: 'H',\n",
    " 18: 'I', 19: 'J',20: 'K',\n",
    " 21: 'L',22: 'M',\n",
    " 23: 'N', 24: 'O', 25: 'P',26: 'Q', 27: 'R', 28: 'S', 29: 'T', 30: 'U',31: 'V', 32: 'W',33: 'X',\n",
    " 34: 'Y',35: 'Z',36: 'a',37: 'b',38: 'c',39: 'd',40: 'e',41: 'f',42: 'g',43: 'h',44: 'i',45: 'j',46: 'k',47: 'l',48: 'm', 49: 'n',50: 'o',51: 'p', 52: 'q',\n",
    " 53: 'r', 54: 's', 55: 't', 56: 'u', 57: 'v', 58: 'w', 59: 'x', 60: 'y',\n",
    " 61: 'z'}"
   ]
  },
  {
   "cell_type": "code",
   "execution_count": 14,
   "id": "6e8dedd9",
   "metadata": {
    "scrolled": true
   },
   "outputs": [
    {
     "name": "stdout",
     "output_type": "stream",
     "text": [
      "0\n",
      "1\n",
      "2\n",
      "3\n",
      "4\n",
      "5\n",
      "6\n",
      "7\n"
     ]
    },
    {
     "ename": "FileNotFoundError",
     "evalue": "[Errno 2] No such file or directory: 'dump/8.png'",
     "output_type": "error",
     "traceback": [
      "\u001b[1;31m---------------------------------------------------------------------------\u001b[0m",
      "\u001b[1;31mFileNotFoundError\u001b[0m                         Traceback (most recent call last)",
      "\u001b[1;32m<ipython-input-14-373774c9e526>\u001b[0m in \u001b[0;36m<module>\u001b[1;34m\u001b[0m\n\u001b[0;32m     11\u001b[0m     \u001b[0mco\u001b[0m\u001b[1;33m+=\u001b[0m\u001b[1;36m1\u001b[0m\u001b[1;33m\u001b[0m\u001b[1;33m\u001b[0m\u001b[0m\n\u001b[0;32m     12\u001b[0m \u001b[1;33m\u001b[0m\u001b[0m\n\u001b[1;32m---> 13\u001b[1;33m     \u001b[0mimage\u001b[0m \u001b[1;33m=\u001b[0m \u001b[0mImage\u001b[0m\u001b[1;33m.\u001b[0m\u001b[0mopen\u001b[0m\u001b[1;33m(\u001b[0m\u001b[1;34m'dump/'\u001b[0m\u001b[1;33m+\u001b[0m\u001b[0mstr\u001b[0m\u001b[1;33m(\u001b[0m\u001b[0mco\u001b[0m\u001b[1;33m)\u001b[0m\u001b[1;33m+\u001b[0m\u001b[1;34m'.png'\u001b[0m\u001b[1;33m)\u001b[0m\u001b[1;33m\u001b[0m\u001b[1;33m\u001b[0m\u001b[0m\n\u001b[0m\u001b[0;32m     14\u001b[0m \u001b[1;33m\u001b[0m\u001b[0m\n\u001b[0;32m     15\u001b[0m \u001b[1;33m\u001b[0m\u001b[0m\n",
      "\u001b[1;32m~\\anaconda3\\lib\\site-packages\\PIL\\Image.py\u001b[0m in \u001b[0;36mopen\u001b[1;34m(fp, mode, formats)\u001b[0m\n\u001b[0;32m   2910\u001b[0m \u001b[1;33m\u001b[0m\u001b[0m\n\u001b[0;32m   2911\u001b[0m     \u001b[1;32mif\u001b[0m \u001b[0mfilename\u001b[0m\u001b[1;33m:\u001b[0m\u001b[1;33m\u001b[0m\u001b[1;33m\u001b[0m\u001b[0m\n\u001b[1;32m-> 2912\u001b[1;33m         \u001b[0mfp\u001b[0m \u001b[1;33m=\u001b[0m \u001b[0mbuiltins\u001b[0m\u001b[1;33m.\u001b[0m\u001b[0mopen\u001b[0m\u001b[1;33m(\u001b[0m\u001b[0mfilename\u001b[0m\u001b[1;33m,\u001b[0m \u001b[1;34m\"rb\"\u001b[0m\u001b[1;33m)\u001b[0m\u001b[1;33m\u001b[0m\u001b[1;33m\u001b[0m\u001b[0m\n\u001b[0m\u001b[0;32m   2913\u001b[0m         \u001b[0mexclusive_fp\u001b[0m \u001b[1;33m=\u001b[0m \u001b[1;32mTrue\u001b[0m\u001b[1;33m\u001b[0m\u001b[1;33m\u001b[0m\u001b[0m\n\u001b[0;32m   2914\u001b[0m \u001b[1;33m\u001b[0m\u001b[0m\n",
      "\u001b[1;31mFileNotFoundError\u001b[0m: [Errno 2] No such file or directory: 'dump/8.png'"
     ]
    }
   ],
   "source": [
    "def add_margin(pil_img, top, right, bottom, left, color):\n",
    "    width, height = pil_img.size\n",
    "    new_width = width + right + left\n",
    "    new_height = height + top + bottom\n",
    "    result = Image.new(pil_img.mode, (new_width, new_height), color)\n",
    "    result.paste(pil_img, (left, top))\n",
    "    return result\n",
    "co=-1\n",
    "STRING=''\n",
    "while True:\n",
    "    co+=1\n",
    "    \n",
    "    image = Image.open('dump/'+str(co)+'.png')\n",
    "\n",
    "\n",
    "    print(co)\n",
    "    im_new = add_margin(image, 10, 10,10, 10, (255))\n",
    "    resized_image = im_new.resize((32,32))\n",
    "\n",
    "    import numpy as np\n",
    "    a=np.asarray(resized_image)/255\n",
    "\n",
    "    hehe=labs[np.argmax(model.predict([a.tolist()]))]\n",
    "    #print(hehe)\n",
    "    #os.remove('dump/'+str(co)+'.png')\n",
    "    #image.save(\"imgo/\"+str(co)+'_'+str(hehe)+ \".png\")\n",
    "\n",
    "    #Image.fromarray((a*255).astype('uint8'), mode='L').save(\"imgi/\"+str(co)+'_'+str(hehe)+ \".png\")\n",
    "\n",
    "    #model.predict([a.tolist()])\n",
    "    STRING+=str(hehe)\n"
   ]
  },
  {
   "cell_type": "code",
   "execution_count": 15,
   "id": "2f5acfc5",
   "metadata": {},
   "outputs": [
    {
     "data": {
      "text/plain": [
       "'mdmWnJdm'"
      ]
     },
     "execution_count": 15,
     "metadata": {},
     "output_type": "execute_result"
    }
   ],
   "source": [
    "STRING"
   ]
  },
  {
   "cell_type": "code",
   "execution_count": 57,
   "id": "a5b62dc5",
   "metadata": {},
   "outputs": [
    {
     "data": {
      "text/plain": [
       "16"
      ]
     },
     "execution_count": 57,
     "metadata": {},
     "output_type": "execute_result"
    }
   ],
   "source": [
    "x2"
   ]
  },
  {
   "cell_type": "code",
   "execution_count": 46,
   "id": "db0d525c",
   "metadata": {},
   "outputs": [
    {
     "data": {
      "text/plain": [
       "6"
      ]
     },
     "execution_count": 46,
     "metadata": {},
     "output_type": "execute_result"
    }
   ],
   "source": [
    "y1"
   ]
  },
  {
   "cell_type": "code",
   "execution_count": 47,
   "id": "5415bde6",
   "metadata": {},
   "outputs": [
    {
     "data": {
      "text/plain": [
       "17"
      ]
     },
     "execution_count": 47,
     "metadata": {},
     "output_type": "execute_result"
    }
   ],
   "source": [
    "y2"
   ]
  },
  {
   "cell_type": "code",
   "execution_count": 48,
   "id": "0412f4c4",
   "metadata": {},
   "outputs": [
    {
     "data": {
      "text/plain": [
       "array([[255, 255, 255, 255, 255, 255, 255, 255, 255, 255, 255, 255, 255,\n",
       "        255, 255, 255],\n",
       "       [255, 255, 255, 255, 255, 255, 255, 255, 255, 255, 255, 255, 255,\n",
       "        255, 255, 255],\n",
       "       [255, 255, 255, 255, 255, 255, 255, 255, 255, 255, 255, 255, 255,\n",
       "        255, 255, 255],\n",
       "       [255, 255, 255, 255, 255, 255, 255, 255, 255, 255, 255, 255, 255,\n",
       "        255, 255, 255],\n",
       "       [255, 255, 255, 255, 255, 255, 255, 255, 255, 255, 255, 255, 255,\n",
       "        255, 255, 255],\n",
       "       [255, 255, 255, 255, 255, 255, 255, 255, 255, 255, 255, 255, 255,\n",
       "        255, 255, 255],\n",
       "       [255, 255, 255, 255, 255, 255, 255, 255, 255,   0,   0,   0,   0,\n",
       "          0,   0, 255],\n",
       "       [255, 255, 255, 255, 255, 255, 255,   0,   0,   0,   0,   0,   0,\n",
       "          0,   0,   0],\n",
       "       [255, 255, 255, 255, 255, 255, 255,   0,   0,   0, 255, 255, 255,\n",
       "        255,   0,   0],\n",
       "       [255, 255, 255, 255, 255, 255, 255, 255, 255, 255, 255, 255, 255,\n",
       "        255,   0,   0],\n",
       "       [255, 255, 255, 255, 255, 255, 255, 255, 255,   0,   0,   0,   0,\n",
       "          0,   0,   0],\n",
       "       [255, 255, 255, 255, 255, 255, 255, 255,   0,   0,   0,   0,   0,\n",
       "          0,   0,   0],\n",
       "       [255, 255, 255, 255, 255, 255, 255,   0,   0,   0, 255, 255, 255,\n",
       "        255,   0,   0],\n",
       "       [255, 255, 255, 255, 255, 255, 255,   0,   0, 255, 255, 255, 255,\n",
       "        255,   0,   0],\n",
       "       [255, 255, 255, 255, 255, 255, 255,   0,   0,   0, 255, 255, 255,\n",
       "          0,   0,   0],\n",
       "       [255, 255, 255, 255, 255, 255, 255,   0,   0,   0,   0,   0,   0,\n",
       "          0,   0,   0],\n",
       "       [255, 255, 255, 255, 255, 255, 255, 255, 255,   0,   0,   0,   0,\n",
       "        255,   0,   0]], dtype=uint8)"
      ]
     },
     "execution_count": 48,
     "metadata": {},
     "output_type": "execute_result"
    }
   ],
   "source": [
    "a"
   ]
  },
  {
   "cell_type": "code",
   "execution_count": 54,
   "id": "9d693014",
   "metadata": {},
   "outputs": [
    {
     "data": {
      "text/plain": [
       "array([255, 255, 255, 255, 255, 255, 255,   0,   0, 255, 255, 255,   0,\n",
       "         0,   0,   0, 255], dtype=uint8)"
      ]
     },
     "execution_count": 54,
     "metadata": {},
     "output_type": "execute_result"
    }
   ],
   "source": [
    "a[:,7]"
   ]
  },
  {
   "cell_type": "code",
   "execution_count": 18,
   "id": "d691ebb0",
   "metadata": {},
   "outputs": [],
   "source": [
    "a = io.imread(r'C:\\Users\\Sanket M\\Downloads\\onboarding\\onboarding\\ocr\\dump\\0.png')\n",
    "   \n",
    "#print(a)\n",
    "for i in range(len(a)):\n",
    "    for j in range(len(a[0])):\n",
    "        if a[i][j] >200:\n",
    "            a[i][j]=255\n",
    "        else:\n",
    "            a[i][j]=0\n",
    "def flagCalc(i):\n",
    "    flag = 0\n",
    "    for j in range(len(i)):\n",
    "        if  i[j]==0:\n",
    "            flag=1\n",
    "\n",
    "    return flag       \n",
    "y1=0\n",
    "y2=a.shape[0]\n",
    "x1=0\n",
    "x2=a.shape[1]\n",
    "\n",
    "\n"
   ]
  },
  {
   "cell_type": "code",
   "execution_count": 23,
   "id": "1f214a86",
   "metadata": {},
   "outputs": [],
   "source": [
    "for i in range(len(a)-1):\n",
    "    #print(flagCalc(a[i])) \n",
    "    if flagCalc(a[i])<flagCalc(a[i+1]):\n",
    "        y2=a.shape[0]\n",
    "        if (i+1)< y2:\n",
    "            y1=i+1\n",
    "            \n",
    "    elif flagCalc(a[i])>flagCalc(a[i+1]):\n",
    "        if (i-1)>y1:\n",
    "            y2=i-1\n",
    "for i in range(len(a[0,:])-1):\n",
    "    #print(flagCalc(a[i])) \n",
    "    if flagCalc(a[:,i])<flagCalc(a[:,i+1]):\n",
    "        if (i+1)< x2:\n",
    "            x1=i+1\n",
    "    elif flagCalc(a[:,i])>flagCalc(a[:,i+1]):\n",
    "        if (i-1)>x1:\n",
    "            x2=i-1   \n"
   ]
  },
  {
   "cell_type": "code",
   "execution_count": 24,
   "id": "15cb2685",
   "metadata": {},
   "outputs": [
    {
     "data": {
      "text/plain": [
       "29"
      ]
     },
     "execution_count": 24,
     "metadata": {},
     "output_type": "execute_result"
    }
   ],
   "source": [
    "y1"
   ]
  },
  {
   "cell_type": "code",
   "execution_count": 25,
   "id": "d5f97bf2",
   "metadata": {},
   "outputs": [
    {
     "data": {
      "text/plain": [
       "114"
      ]
     },
     "execution_count": 25,
     "metadata": {},
     "output_type": "execute_result"
    }
   ],
   "source": [
    "y2"
   ]
  },
  {
   "cell_type": "code",
   "execution_count": null,
   "id": "a0747e21",
   "metadata": {},
   "outputs": [],
   "source": [
    "im = Image.fromarray(a[y1:y2,x1:x2])\n",
    "print(y1,y2,x1,x2)\n",
    "im.save(path)"
   ]
  }
 ],
 "metadata": {
  "kernelspec": {
   "display_name": "Python 3",
   "language": "python",
   "name": "python3"
  },
  "language_info": {
   "codemirror_mode": {
    "name": "ipython",
    "version": 3
   },
   "file_extension": ".py",
   "mimetype": "text/x-python",
   "name": "python",
   "nbconvert_exporter": "python",
   "pygments_lexer": "ipython3",
   "version": "3.8.8"
  }
 },
 "nbformat": 4,
 "nbformat_minor": 5
}
